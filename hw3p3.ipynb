{
  "cells": [
    {
      "cell_type": "markdown",
      "metadata": {
        "id": "eLeYBj7ygjvZ"
      },
      "source": [
        "# HW3: Problem 3 Classification Comparison with Synthetic Data"
      ]
    },
    {
      "cell_type": "markdown",
      "metadata": {
        "id": "isuPSX4Mgjva"
      },
      "source": [
        "\n",
        "* Write a jupyter notebook.\n",
        "* It is essential that you include markdown cells explaining what you are doing at each step.\n",
        "\n",
        "* You are going to compare the classification algorithms you have learned:\n",
        "\n",
        "1.  Naive Bayes Classification\n",
        "2.  Logistic Regression\n",
        "3.  Quadradic Discriminant Analysis\n",
        "4.  SVM using radial basis functions (RBF)\n",
        "5.  Decision Tree\n",
        "6.  KNN with K = 1\n",
        "\n",
        "So make sure you run each of these algorithms on the data sets you will create to test.\n",
        "\n",
        "* The goal is to create 4 synthetic data examples with 2D input data, 2 classes, to use to compare the algorithms.\n",
        "* You should use a combination of the following 3 synthetic functions to make your examples:\n",
        "-   [sklearn.datasets.make_blobs](https://scikit-learn.org/stable/modules/generated/sklearn.datasets.make_blobs.html#sklearn.datasets.make_blobs)\n",
        "-   [sklearn.datasets.make_circles](https://scikit-learn.org/stable/modules/generated/sklearn.datasets.make_circles.html#sklearn.datasets.make_circles)\n",
        "-   [sklearn.datasets.make_moons](https://scikit-learn.org/stable/modules/generated/sklearn.datasets.make_moons.html#sklearn.datasets.make_moons)\n",
        "\n",
        "* You may use a combination of the above in the same example. For example, one class could come from a moon and the other class from a circle in the same example. You could also make one class is a combination of a moon bending oneway and a moon bending the other if that worked better for your example.\n",
        "* Your examples should be such that:\n",
        "\n",
        "1.  One of the four examples will be two well-separated blob classes. This example show that all the classifiers work pretty well (near-perfect or perfect classification)\n",
        "2.  In the two of the data examples, the linear classifier (logistic regression) should do more poorly (both in training and test evaluation) than the others\n",
        "3.  In the second example the quadratic should do very well (both in training and testing) but the linear classifier should do poorly. The SVM, Decision Tree, and KNN should also do better than the Logistic Regressioon\n",
        "4.  In the third example you should be able to construct an example where the decision tree and KNN both overfit so the training error is small but the testing error is large, and linear regression does better\n",
        "5.  The fourth example should be such that SVM and KNN do better than the others (in testing error)\n",
        "\n",
        "In your evaluations, you should always split the data set into a training and test set using [sklearn.model_selection.train_test_split ](https://scikit-learn.org/stable/modules/generated/sklearn.model_selection.train_test_split.html#sklearn.model_selection.train_test_split) and also create a report using [sklearn.metrics.classification_report](https://scikit-learn.org/stable/modules/generated/sklearn.metrics.classification_report.html#sklearn.metrics.classification_report)\n",
        "\n",
        "There should be both an evaluation for training which means fit on training test on training (evaluation of fit) and testing which means fit on training but test on the testing data with the training fit!\n",
        "Never, ever, fit on training data!!!\n",
        "\n",
        "Since you are working with 2D data you should also create a set of visualized comparisons like those here:\n",
        "\n",
        "<div\n",
        "data-ephox-embed-iri=\"https://scikit-learn.org/stable/auto_examples/classification/plot_classifier_comparison.html#sphx-glr-auto-examples-classification-plot-classifier-comparison-py\"\n",
        "style=\"max-width: 650px; border: 1px solid #aaaaaa; box-shadow: rgba(0, 0, 0, 0.14) 0px 2px 2px 0px, rgba(0, 0, 0, 0.2) 0px 3px 1px -2px, rgba(0, 0, 0, 0.12) 0px 1px 5px 0px; padding: 10px; overflow: hidden; margin-bottom: 1em;\">\n",
        "<p><a\n",
        "href=\"https://scikit-learn.org/stable/auto_examples/classification/plot_classifier_comparison.html#sphx-glr-auto-examples-classification-plot-classifier-comparison-py\"\n",
        "style=\"text-decoration: none; color: inherit;\"><img\n",
        "src=\"https://scikit-learn.org/stable/_static/scikit-learn-logo-small.png\"\n",
        "style=\"max-width: 180px; max-height: 180px; margin-left: 2em; float: right;\" /></a>\n",
        "<a\n",
        "href=\"https://scikit-learn.org/stable/auto_examples/classification/plot_classifier_comparison.html#sphx-glr-auto-examples-classification-plot-classifier-comparison-py\"\n",
        "style=\"text-decoration: none; color: inherit;\"><span\n",
        "style=\"font-size: 1.2em; display: block;\">Classifier comparison</span>\n",
        "<span style=\"margin-top: 0.5em; display: block;\">A comparison of a\n",
        "several classifiers in scikit-learn on synthetic datasets. The point of\n",
        "this example is to illustrate the nature of decision boundaries of\n",
        "different classifiers. This should be ta...</span> <span\n",
        "style=\"color: #999999; display: block; margin-top: 0.5em;\">scikit-learn</span></a></p>\n",
        "</div>\n",
        "\n",
        "You can use these visualizations and comparisons as inspiration but you should develop your own. Don\\'t forget to see your random numbers! For some more idea on how to generate the synthetic data please read these examples too:\n",
        "\n",
        "<div\n",
        "data-ephox-embed-iri=\"https://scikit-learn.org/stable/modules/clustering.html#clustering\"\n",
        "style=\"max-width: 650px; border: 1px solid #aaaaaa; box-shadow: rgba(0, 0, 0, 0.14) 0px 2px 2px 0px, rgba(0, 0, 0, 0.2) 0px 3px 1px -2px, rgba(0, 0, 0, 0.12) 0px 1px 5px 0px; padding: 10px; overflow: hidden; margin-bottom: 1em;\">\n",
        "<p><a\n",
        "href=\"https://scikit-learn.org/stable/modules/clustering.html#clustering\"\n",
        "style=\"text-decoration: none; color: inherit;\"><img\n",
        "src=\"https://scikit-learn.org/stable/_images/sphx_glr_plot_cluster_comparison_001.png\"\n",
        "style=\"max-width: 180px; max-height: 180px; margin-left: 2em; float: right;\" /></a>\n",
        "<a\n",
        "href=\"https://scikit-learn.org/stable/modules/clustering.html#clustering\"\n",
        "style=\"text-decoration: none; color: inherit;\"><span\n",
        "style=\"font-size: 1.2em; display: block;\">2.3. Clustering</span> <span\n",
        "style=\"margin-top: 0.5em; display: block;\">Clustering of unlabeled data\n",
        "can be performed with the module sklearn.cluster. Each clustering\n",
        "algorithm comes in two variants: a class, that implements the fit method\n",
        "to learn the clusters on trai...</span> <span\n",
        "style=\"color: #999999; display: block; margin-top: 0.5em;\">scikit-learn</span></a></p>\n",
        "</div>\n"
      ]
    },
    {
      "cell_type": "markdown",
      "metadata": {
        "id": "3LdTsGZ-gjvb"
      },
      "source": []
    },
    {
      "cell_type": "code",
      "source": [
        "import numpy as np\n",
        "import matplotlib.pyplot as plt\n",
        "from sklearn.datasets import make_blobs, make_circles, make_moons"
      ],
      "metadata": {
        "id": "U_DKB7pXmyQQ"
      },
      "execution_count": 1,
      "outputs": []
    },
    {
      "cell_type": "code",
      "source": [
        "# Set random seed for reproducibility\n",
        "np.random.seed(42)\n"
      ],
      "metadata": {
        "id": "FddatYQym7JR"
      },
      "execution_count": 2,
      "outputs": []
    },
    {
      "cell_type": "code",
      "source": [
        "# make_blobs\n",
        "X_blob, y_blob = make_blobs(n_samples=300, centers=2, n_features=2, random_state=42)\n",
        "unique_classes_blob = np.unique(y_blob)\n",
        "print(unique_classes_blob, X_blob.shape, y_blob.shape )"
      ],
      "metadata": {
        "id": "vrwcrpQXm-4o"
      },
      "execution_count": 3,
      "outputs": []
    },
    {
      "cell_type": "code",
      "source": [
        "# make_circles\n",
        "X_circles, y_circles = make_circles(n_samples=300, noise=0.1, factor=0.5, random_state=42)\n",
        "unique_classes_circles = np.unique(y_circles)\n",
        "print(unique_classes_circles, X_circles.shape, y_circles.shape )"
      ],
      "metadata": {
        "colab": {
          "base_uri": "https://localhost:8080/"
        },
        "id": "u5KfH4TenCbl",
        "outputId": "89791f10-0570-48c3-b459-634997b33b72"
      },
      "execution_count": 20,
      "outputs": [
        {
          "output_type": "stream",
          "name": "stdout",
          "text": [
            "[0 1] (300, 2) (300,)\n"
          ]
        }
      ]
    },
    {
      "cell_type": "code",
      "source": [
        "# make_moons\n",
        "X_moons, y_moons = make_moons(n_samples=300, noise=0.1, random_state=42)\n",
        "unique_classes_moons = np.unique(y_moons)\n",
        "print(unique_classes_moons, X_moons.shape, y_moons.shape )"
      ],
      "metadata": {
        "colab": {
          "base_uri": "https://localhost:8080/"
        },
        "id": "MPvawKBBnGua",
        "outputId": "2b27eb0c-c13d-4e54-db15-f07fb289c312"
      },
      "execution_count": 21,
      "outputs": [
        {
          "output_type": "stream",
          "name": "stdout",
          "text": [
            "[0 1] (300, 2) (300,)\n"
          ]
        }
      ]
    },
    {
      "cell_type": "code",
      "source": [
        "# Example 1: Combination of make_blobs and make_moons\n",
        "X_combined_1 = np.vstack([X_blob[y_blob == 1], X_moons[y_moons == 0]])\n",
        "y_combined_1 = np.hstack([y_blob[y_blob == 0], y_moons[y_moons == 1]])\n",
        "unique_classes_combined_1 = np.unique(y_combined_1)\n",
        "print(unique_classes_combined_1, X_combined_1.shape, y_combined_1.shape )"
      ],
      "metadata": {
        "colab": {
          "base_uri": "https://localhost:8080/"
        },
        "id": "qCvcAWCAnI11",
        "outputId": "d5af80b3-07aa-48fc-d10e-935732b8bf00"
      },
      "execution_count": 30,
      "outputs": [
        {
          "output_type": "stream",
          "name": "stdout",
          "text": [
            "[0 1] (300, 2) (300,)\n"
          ]
        }
      ]
    },
    {
      "cell_type": "code",
      "source": [
        "# Example 2: Combination of make_circles and make_moons\n",
        "X_combined_2 = np.vstack([X_circles[y_circles == 0], X_moons[y_moons == 1]])\n",
        "y_combined_2 = np.hstack([y_circles[y_circles == 0], y_moons[y_moons == 1]])\n",
        "unique_classes_combined_2 = np.unique(y_combined_2)\n",
        "print(unique_classes_combined_2, X_combined_2.shape, y_combined_2.shape )"
      ],
      "metadata": {
        "colab": {
          "base_uri": "https://localhost:8080/"
        },
        "id": "d-i_jGCfnKP_",
        "outputId": "5cccc170-103d-47ed-d99f-de281b849b4b"
      },
      "execution_count": 31,
      "outputs": [
        {
          "output_type": "stream",
          "name": "stdout",
          "text": [
            "[0 1] (300, 2) (300,)\n"
          ]
        }
      ]
    },
    {
      "cell_type": "code",
      "source": [
        "# Example 3: Combination of make_blobs and make_circles\n",
        "X_combined_3 = np.vstack([X_blob[y_blob == 0], X_circles[y_circles == 0]])\n",
        "y_combined_3 = np.hstack([y_blob[y_blob == 1], y_circles[y_circles == 0]])\n",
        "unique_classes_combined_3 = np.unique(y_combined_3)\n",
        "print(unique_classes_combined_3, X_combined_3.shape, y_combined_3.shape )"
      ],
      "metadata": {
        "colab": {
          "base_uri": "https://localhost:8080/"
        },
        "id": "WN9TCkOGnNT9",
        "outputId": "7b249149-d5fb-49e9-a2a0-63f11b342c87"
      },
      "execution_count": 37,
      "outputs": [
        {
          "output_type": "stream",
          "name": "stdout",
          "text": [
            "[0 1] (300, 2) (300,)\n"
          ]
        }
      ]
    },
    {
      "cell_type": "code",
      "source": [
        "y_combined_3"
      ],
      "metadata": {
        "colab": {
          "base_uri": "https://localhost:8080/"
        },
        "id": "JJS4V1WGtTwA",
        "outputId": "255eb6a4-8edf-4690-92f5-23bfc1818e1a"
      },
      "execution_count": 38,
      "outputs": [
        {
          "output_type": "execute_result",
          "data": {
            "text/plain": [
              "array([1, 1, 1, 1, 1, 1, 1, 1, 1, 1, 1, 1, 1, 1, 1, 1, 1, 1, 1, 1, 1, 1,\n",
              "       1, 1, 1, 1, 1, 1, 1, 1, 1, 1, 1, 1, 1, 1, 1, 1, 1, 1, 1, 1, 1, 1,\n",
              "       1, 1, 1, 1, 1, 1, 1, 1, 1, 1, 1, 1, 1, 1, 1, 1, 1, 1, 1, 1, 1, 1,\n",
              "       1, 1, 1, 1, 1, 1, 1, 1, 1, 1, 1, 1, 1, 1, 1, 1, 1, 1, 1, 1, 1, 1,\n",
              "       1, 1, 1, 1, 1, 1, 1, 1, 1, 1, 1, 1, 1, 1, 1, 1, 1, 1, 1, 1, 1, 1,\n",
              "       1, 1, 1, 1, 1, 1, 1, 1, 1, 1, 1, 1, 1, 1, 1, 1, 1, 1, 1, 1, 1, 1,\n",
              "       1, 1, 1, 1, 1, 1, 1, 1, 1, 1, 1, 1, 1, 1, 1, 1, 1, 1, 0, 0, 0, 0,\n",
              "       0, 0, 0, 0, 0, 0, 0, 0, 0, 0, 0, 0, 0, 0, 0, 0, 0, 0, 0, 0, 0, 0,\n",
              "       0, 0, 0, 0, 0, 0, 0, 0, 0, 0, 0, 0, 0, 0, 0, 0, 0, 0, 0, 0, 0, 0,\n",
              "       0, 0, 0, 0, 0, 0, 0, 0, 0, 0, 0, 0, 0, 0, 0, 0, 0, 0, 0, 0, 0, 0,\n",
              "       0, 0, 0, 0, 0, 0, 0, 0, 0, 0, 0, 0, 0, 0, 0, 0, 0, 0, 0, 0, 0, 0,\n",
              "       0, 0, 0, 0, 0, 0, 0, 0, 0, 0, 0, 0, 0, 0, 0, 0, 0, 0, 0, 0, 0, 0,\n",
              "       0, 0, 0, 0, 0, 0, 0, 0, 0, 0, 0, 0, 0, 0, 0, 0, 0, 0, 0, 0, 0, 0,\n",
              "       0, 0, 0, 0, 0, 0, 0, 0, 0, 0, 0, 0, 0, 0])"
            ]
          },
          "metadata": {},
          "execution_count": 38
        }
      ]
    },
    {
      "cell_type": "code",
      "source": [],
      "metadata": {
        "id": "liHtuNlNti0Q"
      },
      "execution_count": null,
      "outputs": []
    }
  ],
  "metadata": {
    "kernelspec": {
      "display_name": "Python 3",
      "language": "python",
      "name": "python3"
    },
    "language_info": {
      "name": "python",
      "version": "3.11.1"
    },
    "orig_nbformat": 4,
    "vscode": {
      "interpreter": {
        "hash": "5c7b89af1651d0b8571dde13640ecdccf7d5a6204171d6ab33e7c296e100e08a"
      }
    },
    "colab": {
      "provenance": []
    }
  },
  "nbformat": 4,
  "nbformat_minor": 0
}